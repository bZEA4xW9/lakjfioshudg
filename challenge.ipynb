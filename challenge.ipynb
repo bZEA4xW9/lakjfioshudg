{
 "cells": [
  {
   "attachments": {},
   "cell_type": "markdown",
   "metadata": {},
   "source": [
    "\n",
    "### Challenge: compose a job title that has the highest salary possible.\n",
    "![img](https://talkingcents.consumercredit.com/wp-content/uploads/2014/10/scrooge_mcduck-300x197.jpeg)\n",
    "__Rules:__\n",
    "* Job title must be grammatically correct and between __3__ and __30__ words;\n",
    "* No changes to predict_salary or anything else in lib;\n",
    "* You will have to explain what are the job requirements;"
   ]
  },
  {
   "cell_type": "code",
   "execution_count": null,
   "metadata": {},
   "outputs": [],
   "source": [
    "!wget https://bit.ly/2GdV1dB -O lib.py 2> log\n",
    "from lib import predict_salary\n",
    "\n",
    "print(predict_salary(\"Intern part-time janitor :)\"))"
   ]
  }
 ],
 "metadata": {
  "kernelspec": {
   "display_name": "Python 3",
   "language": "python",
   "name": "python3"
  },
  "language_info": {
   "codemirror_mode": {
    "name": "ipython",
    "version": 3
   },
   "file_extension": ".py",
   "mimetype": "text/x-python",
   "name": "python",
   "nbconvert_exporter": "python",
   "pygments_lexer": "ipython3",
   "version": "3.5.2"
  }
 },
 "nbformat": 4,
 "nbformat_minor": 2
}
