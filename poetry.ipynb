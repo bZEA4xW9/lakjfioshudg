{
 "cells": [
  {
   "cell_type": "markdown",
   "metadata": {},
   "source": [
    "### Минутка поэзии\n",
    "<img src='http://www.temakazan.ru/static/60d439b2196867fe83bb7afe31cdefcb/thumbs/media/news/0/21000/aa3bc932a8caf9bf4184deff82b6974a.jpg/660x660.jpg' width=300>\n",
    "\n",
    "__Задание:__\n",
    "Дана языковая модель, которая ~~думает, что~~ умеет писать стихи. Нужно вместе с ней сочинить стихотворение. Она - поэт, вы - редактор.\n",
    "\n",
    "__Правила:__\n",
    "* стихотворение должно быть как минимум из 12 строк (e.g. 3 четверостишья)\n",
    "  * лучше быстро набросать сколь угодно бредовые стихи а потом их изменять\n",
    "* каждая строчка кроме начала стиха должна быть порождена моделью\n",
    "  * сеть можно и нужно запускать по многу раз и выбирать лучшее\n",
    "  * можно оставить только часть того что породила сеть и пере\n",
    "  * параметры можно менять как угодно\n",
    "\n",
    "* редактируйте стих в поле poem_prefix. Будте готовы его прочитать :)"
   ]
  },
  {
   "cell_type": "code",
   "execution_count": null,
   "metadata": {},
   "outputs": [],
   "source": [
    "!wget https://bit.ly/2QtHrHM -O poet.py 2> log\n",
    "from poet import model, sample_from_model\n",
    "\n",
    "poem_prefix = \"\"\"\n",
    "однажды\n",
    "\"\"\".strip()\n",
    "\n",
    "for i in range(5):\n",
    "    print(sample_from_model(model, poem_prefix, temperature=0.7, max_len=20), end='\\n\\n')"
   ]
  }
 ],
 "metadata": {
  "kernelspec": {
   "display_name": "Python 3",
   "language": "python",
   "name": "python3"
  },
  "language_info": {
   "codemirror_mode": {
    "name": "ipython",
    "version": 3
   },
   "file_extension": ".py",
   "mimetype": "text/x-python",
   "name": "python",
   "nbconvert_exporter": "python",
   "pygments_lexer": "ipython3",
   "version": "3.5.2"
  }
 },
 "nbformat": 4,
 "nbformat_minor": 2
}
